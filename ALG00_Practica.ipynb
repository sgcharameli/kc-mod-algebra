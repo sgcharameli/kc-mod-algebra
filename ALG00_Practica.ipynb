{
 "cells": [
  {
   "cell_type": "markdown",
   "metadata": {},
   "source": [
    "# Práctica"
   ]
  },
  {
   "cell_type": "markdown",
   "metadata": {},
   "source": [
    "## 1. La conjetura de Collatz\n",
    "\n",
    "Escribir un procedimiento en Python que implemente el mecanismo de la conjetura de Collatz para cualquier número entero positivo."
   ]
  },
  {
   "cell_type": "code",
   "execution_count": 1,
   "metadata": {},
   "outputs": [
    {
     "name": "stdout",
     "output_type": "stream",
     "text": [
      "Se esperaba un número entero positivo\n",
      "57\n",
      "172\n",
      "86\n",
      "43\n",
      "130\n",
      "65\n",
      "196\n",
      "98\n",
      "49\n",
      "148\n",
      "74\n",
      "37\n",
      "112\n",
      "56\n",
      "28\n",
      "14\n",
      "7\n",
      "22\n",
      "11\n",
      "34\n",
      "17\n",
      "52\n",
      "26\n",
      "13\n",
      "40\n",
      "20\n",
      "10\n",
      "5\n",
      "16\n",
      "8\n",
      "4\n",
      "2\n",
      "1\n",
      "1\n"
     ]
    }
   ],
   "source": [
    "def conjeturaCollatz(numero):\n",
    "  numero = int(numero)\n",
    "  if (numero <= 0):\n",
    "    return \"Se esperaba un número entero positivo\"\n",
    "  print(numero)\n",
    "  if (numero == 1):\n",
    "    return numero\n",
    "  if (numero % 2 == 0):\n",
    "    return conjeturaCollatz(numero / 2)\n",
    "  else:\n",
    "    return conjeturaCollatz(numero * 3 + 1)\n",
    "\n",
    "\n",
    "print(conjeturaCollatz(-57.7))\n",
    "\n",
    "print(conjeturaCollatz(57.7))"
   ]
  },
  {
   "cell_type": "markdown",
   "metadata": {},
   "source": [
    "## 2. El secreto perfecto\n",
    "\n",
    "Representa la encriptación de la adicción de un n-vector a un n-vector de GF(2)  \n",
    "\n",
    "<img src=\"Images/mortadelo-filemon.jpg\" style=\"width: 300px;\"/>\n",
    "\n",
    "Mortadelo y Filemón usan como clave el siguiente vector:  \n",
    "**k**=[0,1,0,0,1,0,1,0,1,0] \n",
    "\n",
    "Mortadelo quiere enviarle a Filemón el siguiente mensaje:  \n",
    "**p**=[0,0,0,1,1,1,0,1,0,1] \n",
    "\n",
    "Mortadelo encripta su mensaje añadiendo k: \n",
    "**c**=**p**+**k**=[0,0,0,1,1,1,0,1,0,1]+[0,1,0,0,1,0,1,0,1,0]=[0,1,0,1,0,1,1,1,1,1] \n",
    "\n",
    "Cuando Filemón recibe el mensaje, lo desencripta añadiendo **k** a lo que ha recibido \n",
    "**p**=**c**+**k**=[0,1,0,1,0,1,1,1,1,1]+[0,1,0,0,1,0,1,0,1,0]=[0,0,0,1,1,1,0,1,0,1]    \n",
    "\n",
    "que es el mensaje original.\n",
    "\n",
    "La idea es crear un procedimiento para que Filemón:\n",
    "* No tenga que hacer este proceso manualmente cada vez que Mortadelo le envíe un mensaje encriptado para descifrarlo\n",
    "* Si deciden cambiar la clave, que el procedimiento cambie mínimamente\n",
    "\n",
    "  \n"
   ]
  },
  {
   "cell_type": "code",
   "execution_count": 23,
   "metadata": {},
   "outputs": [
    {
     "name": "stdout",
     "output_type": "stream",
     "text": [
      "\n",
      "clave:\n",
      "[0, 1, 0, 0, 1, 0, 1, 0, 1, 0]\n",
      "\n",
      "mensaje original:\n",
      "[0, 0, 0, 1, 1, 1, 0, 1, 0, 1]\n",
      "\n",
      "mensaje desencriptado:\n",
      "[0, 0, 0, 1, 1, 1, 0, 1, 0, 1]\n"
     ]
    }
   ],
   "source": [
    "# Definimos el vector clave\n",
    "k = [0,1,0,0,1,0,1,0,1,0]\n",
    "\n",
    "# Definimos un mensaje inicial sin encriptar\n",
    "mensajeOriginal = [0,0,0,1,1,1,0,1,0,1]\n",
    "\n",
    "# Definimos la función para realizar la suma de dos vectores de igual longitud\n",
    "def sumaVectores(v,w):\n",
    "    return[(v[i] + w[i]) % 2 for i in range(len(v))]\n",
    "\n",
    "# Calculamos el mensaje encriptado\n",
    "c = sumaVectores(k, mensaje)\n",
    "\n",
    "# Desencriptamos el mensaje recibido\n",
    "mensajeDesencriptado = sumaVectores(c, k)\n",
    "\n",
    "print(\"\\nclave:\")\n",
    "print(k)\n",
    "\n",
    "print(\"\\nmensaje original:\")\n",
    "print(mensajeOriginal)\n",
    "\n",
    "print(\"\\nmensaje desencriptado:\")\n",
    "print(mensajeDesencriptado)\n"
   ]
  },
  {
   "cell_type": "markdown",
   "metadata": {},
   "source": [
    "## 3. ¿Cuánto cuesta hacer una cerveza?\n",
    "\n",
    "<img src=\"Images/cerveza.jpg\" style=\"width: 300px;\"/>\n",
    "\n",
    "Supongamos que D es el conjunto de algunos ingredientes de la cerveza: \n",
    "> D={lúpulo, malta, agua, levadura} \n",
    "\n",
    "Por otro lado tenemos el vector coste:\n",
    "> coste={lúpulo: 2,5€, malta: 1.5€, agua: 0.006€, levadura: 0,45€}  \n",
    "\n",
    "Por último tenemos el vector cantidad con lo necesario para hacer una cerveza:\n",
    "> cantidad={lúpulo: 6u, malta: 14u, agua: 7u, levadura: 11u} \n",
    "\n",
    "¿Cuánto cuesta hacer una cerveza?"
   ]
  },
  {
   "cell_type": "code",
   "execution_count": 27,
   "metadata": {},
   "outputs": [
    {
     "name": "stdout",
     "output_type": "stream",
     "text": [
      "El precio de hacer una cerveza es: \n",
      "40.99\n"
     ]
    }
   ],
   "source": [
    "def productoEscalar(u,v):\n",
    "    return sum( u[i] * v[i] for i in range(len(u)))\n",
    "\n",
    "coste = [2.5, 1.5, 0.006, 0.45]\n",
    "cantidad = [6, 14, 7, 11]\n",
    "\n",
    "print(\"El precio de hacer una cerveza es: \")\n",
    "print(round(productoEscalar(coste, cantidad), 2))\n"
   ]
  },
  {
   "cell_type": "markdown",
   "metadata": {},
   "source": [
    "## 4. La carrera de caballos\n",
    "\n",
    "Tres caballos A, B y C compiten en una carrera.  \n",
    "Las apuestas para dar como vencedor a cada uno de ellos son de 4 a 1 para A, 3 a 1 para B y 2 a 1 para C, tomando las unidades siempre en euros.  \n",
    "¿Cuánto debo apostar por cada caballo para asegurarme recibir 13 euros en toal, sin importar qué caballo gane la carrera?"
   ]
  },
  {
   "cell_type": "markdown",
   "metadata": {},
   "source": [
    "Sean x,y,z el dinero apostado por los caballos A, B y C respectivamente.\n",
    "El objetivo del problema es calcular la cantidad que debe apostarse por cada caballo de forma que la suma del dinero recibido y perdido en las apuestas sea siempre igual a 13€.  \n",
    "Así, podemos plantear un sistema de tres ecuaciones con tres incógnitas, en el que igualaremos matemáticamente la cantidad percibida por la victoria de los caballos A, B, C y, al mismo tiempo, señalaremos que esta cantidad corresponde a 13€.  \n",
    "\n",
    "> 4x-y-z=3y-x-z  \n",
    "> 3y-x-z=2z-x-y  \n",
    "> 2z-x-y=13\n"
   ]
  },
  {
   "cell_type": "code",
   "execution_count": 7,
   "metadata": {},
   "outputs": [
    {
     "name": "stdout",
     "output_type": "stream",
     "text": [
      "Por tanto debemos apostar:\n",
      "\tAl primer caballo: [[12.]]\n",
      "\tAl segundo caballo: [[15.]]\n",
      "\tAl tercer caballo: [[20.]]\n"
     ]
    }
   ],
   "source": [
    "# Operando un poco obtenemos que:\n",
    "\n",
    "# 5x - 4y - 0z = 0\n",
    "# 0x + 4y - 3z = 0\n",
    "# -x - y - 2z = 13\n",
    "\n",
    "# Procedemos a resolver con numpy\n",
    "\n",
    "import numpy as np\n",
    "\n",
    "A = np.matrix([\n",
    "    [5,-4,0],\n",
    "    [0,4,-3],\n",
    "    [-1,-1,2]\n",
    "])\n",
    "\n",
    "B = np.matrix(\n",
    "    [[0],\n",
    "     [0],\n",
    "     [13]]\n",
    ")\n",
    "\n",
    "X = np.linalg.solve(A, B)\n",
    "\n",
    "print(\"Por tanto debemos apostar:\")\n",
    "\n",
    "print(\"\\tAl primer caballo:\", X[0])\n",
    "print(\"\\tAl segundo caballo:\", X[1])\n",
    "print(\"\\tAl tercer caballo:\", X[2])\n",
    "\n"
   ]
  },
  {
   "cell_type": "markdown",
   "metadata": {},
   "source": [
    "## 5. Dimensión de matrices\n",
    "\n",
    "Sea la matriz $\n",
    "  M=\n",
    "  \\left[ {\\begin{array}{cc}\n",
    "   1 & 0  & 0 & 5 \\\\\n",
    "   0 & 2  & 0 & 7 \\\\\n",
    "   0 & 0  & 3 & 9 \\\\\n",
    "  \\end{array} } \\right]\n",
    "$. Calcular el rango por filas y por columnas usando Python."
   ]
  },
  {
   "cell_type": "code",
   "execution_count": 2,
   "metadata": {},
   "outputs": [
    {
     "name": "stdout",
     "output_type": "stream",
     "text": [
      "El rango por filas es:\n"
     ]
    },
    {
     "data": {
      "text/plain": [
       "3"
      ]
     },
     "execution_count": 2,
     "metadata": {},
     "output_type": "execute_result"
    }
   ],
   "source": [
    "import numpy as np\n",
    "M = np.matrix([\n",
    "   [1, 0, 0, 5],\n",
    "   [0, 2, 0, 7],\n",
    "   [0, 0, 3, 9]\n",
    "   ])\n",
    "\n",
    "print(\"El rango por filas es:\")\n",
    "np.linalg.matrix_rank(M)\n"
   ]
  },
  {
   "cell_type": "code",
   "execution_count": 3,
   "metadata": {},
   "outputs": [
    {
     "name": "stdout",
     "output_type": "stream",
     "text": [
      "El rango por columnas es:\n"
     ]
    },
    {
     "data": {
      "text/plain": [
       "3"
      ]
     },
     "execution_count": 3,
     "metadata": {},
     "output_type": "execute_result"
    }
   ],
   "source": [
    "import numpy as np\n",
    "N = np.matrix([\n",
    "   [1, 0, 0],\n",
    "   [0, 2, 0],\n",
    "   [0, 0, 3],\n",
    "   [5, 7, 9]\n",
    "   ])\n",
    "\n",
    "print(\"El rango por columnas es:\")\n",
    "np.linalg.matrix_rank(N)\n"
   ]
  },
  {
   "cell_type": "markdown",
   "metadata": {},
   "source": [
    "## 6. Bosque de extensión mínima\n",
    "\n",
    "<img src=\"Images/bosque.png\" style=\"width: 800px;\"/>\n",
    "\n",
    "En clase hemos hecho el caso del grafo de la derecha. Le toca el turno al de la izquierda.\n",
    "Supongamos que queremos diseñar la red de internet para el otro campus universitario.  \n",
    "La red debe lograr la misma conectividad que el grafo de entrada.  \n",
    "Una arista representa un posible cable.  \n",
    "El peso de la arista es el coste de instalar el cable.  \n",
    "Nuestro objetivo es minimizar el coste total, usando el algoritmo Grow y el algoritmo Shrink.\n",
    "Lo único que en este caso se pide crear un procedimiento para el algoritmo Grow y otro para el Shrink que lo hagan automáticamente una vez les metamos como parámetros las aristas y sus pesos"
   ]
  },
  {
   "cell_type": "code",
   "execution_count": 54,
   "metadata": {},
   "outputs": [],
   "source": [
    "# definición de grafos:\n",
    "grafo1 = [\n",
    "    ['Pembroke Campus', 'Athletic Complex', 7],\n",
    "    ['Pembroke Campus', 'Bio-Med', 2],\n",
    "    ['Bio-Med', 'Athletic Complex', 9]\n",
    "    ]\n",
    "grafo2 = [\n",
    "    ['Main Quad', 'Keeney Quad', 5],\n",
    "    ['Main Quad', 'Wriston Quad', 3],\n",
    "    ['Keeney Quad', 'Wriston Quad', 4],\n",
    "    ['Keeney Quad', 'Gregorian Quad', 8],\n",
    "    ['Wriston Quad', 'Gregorian Quad', 6]\n",
    "    ]"
   ]
  },
  {
   "cell_type": "code",
   "execution_count": 55,
   "metadata": {},
   "outputs": [],
   "source": [
    "def grow(aristas):\n",
    "    \n",
    "    S = []\n",
    "        \n",
    "    # se ordenan las aristas por las de menor peso primero\n",
    "    aristas_peso_ascendente = sorted(aristas, key = lambda v: v[2])\n",
    "\n",
    "    #recorremos las aristas ordenadas\n",
    "    for i in range(0, len(aristas_peso_ascendente)):\n",
    "        # buscamos los vertices de los vectores en S\n",
    "        vertice1 = [aristas for arista in S if aristas_peso_ascendente[i][0] in aristas]\n",
    "        vertice2 = [aristas for arista in S if aristas_peso_ascendente[i][1] in aristas]\n",
    "        \n",
    "        # si no encontramos alguno de los vertices añadimos el vector a S\n",
    "        if len(vertice1) == 0 or len(vertice2) == 0:\n",
    "            S.append(aristas_peso_ascendente[i])\n",
    "            \n",
    "    return S"
   ]
  },
  {
   "cell_type": "code",
   "execution_count": 60,
   "metadata": {},
   "outputs": [],
   "source": [
    "def shrink(aristas):\n",
    "    \n",
    "    # se ordenan las aristas por las de mayor peso primero\n",
    "    S = sorted(aristas, key = lambda v: v[2], reverse = True)  \n",
    "    \n",
    "    i = 0\n",
    "    while i < len(S):\n",
    "        \n",
    "        # obtenemos una lista con todos los vectores menos el actual\n",
    "        aristas_restantes = [v for v in S if v != S[i]]        \n",
    "        \n",
    "        # como las aristas estan ordenadas por mayor peso, vamos a ver si podemos quitar la actual\n",
    "        # buscamos los vertices del vector actual en las aristas restantes\n",
    "        vertice1 = [aristas for arista in aristas_restantes if S[i][0] in aristas]\n",
    "        vertice2 = [aristas for arista in aristas_restantes if S[i][1] in aristas]\n",
    "        \n",
    "        # si ambos vertices de la arista estan presentes en cualquiera de las aristas restantes\n",
    "        # podemos quitar la arista actual\n",
    "        if len(vertice1) > 0 and len(vertice2) > 0:\n",
    "            S = aristas_restantes\n",
    "        i += 1\n",
    "                \n",
    "    return S"
   ]
  },
  {
   "cell_type": "code",
   "execution_count": 61,
   "metadata": {},
   "outputs": [
    {
     "name": "stdout",
     "output_type": "stream",
     "text": [
      "Grow grafo 1:\n",
      "[['Pembroke Campus', 'Bio-Med', 2], ['Pembroke Campus', 'Athletic Complex', 7], ['Bio-Med', 'Athletic Complex', 9]]\n",
      "Grow grafo 2:\n",
      "[['Main Quad', 'Wriston Quad', 3], ['Keeney Quad', 'Wriston Quad', 4], ['Main Quad', 'Keeney Quad', 5], ['Wriston Quad', 'Gregorian Quad', 6], ['Keeney Quad', 'Gregorian Quad', 8]]\n"
     ]
    }
   ],
   "source": [
    "print(\"Grow grafo 1:\")\n",
    "print(grow(grafo1))\n",
    "print(\"Grow grafo 2:\")\n",
    "print(grow(grafo2))"
   ]
  },
  {
   "cell_type": "code",
   "execution_count": 62,
   "metadata": {},
   "outputs": [
    {
     "name": "stdout",
     "output_type": "stream",
     "text": [
      "Shrink grafo 1:\n",
      "[['Bio-Med', 'Athletic Complex', 9], ['Pembroke Campus', 'Athletic Complex', 7], ['Pembroke Campus', 'Bio-Med', 2]]\n",
      "Shrink grafo 2:\n",
      "[['Keeney Quad', 'Gregorian Quad', 8], ['Wriston Quad', 'Gregorian Quad', 6], ['Main Quad', 'Keeney Quad', 5], ['Keeney Quad', 'Wriston Quad', 4], ['Main Quad', 'Wriston Quad', 3]]\n"
     ]
    }
   ],
   "source": [
    "print(\"Shrink grafo 1:\")\n",
    "print(shrink(grafo1))\n",
    "print(\"Shrink grafo 2:\")\n",
    "print(shrink(grafo2))"
   ]
  }
 ],
 "metadata": {
  "kernelspec": {
   "display_name": "Python 3",
   "language": "python",
   "name": "python3"
  },
  "language_info": {
   "codemirror_mode": {
    "name": "ipython",
    "version": 3
   },
   "file_extension": ".py",
   "mimetype": "text/x-python",
   "name": "python",
   "nbconvert_exporter": "python",
   "pygments_lexer": "ipython3",
   "version": "3.7.3"
  }
 },
 "nbformat": 4,
 "nbformat_minor": 2
}
